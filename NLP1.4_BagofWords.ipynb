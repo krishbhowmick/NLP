{
  "nbformat": 4,
  "nbformat_minor": 0,
  "metadata": {
    "colab": {
      "name": "NLP1.4_BagofWords",
      "provenance": [],
      "authorship_tag": "ABX9TyNveEnbsSBqGJaKcBS1gD87",
      "include_colab_link": true
    },
    "kernelspec": {
      "name": "python3",
      "display_name": "Python 3"
    }
  },
  "cells": [
    {
      "cell_type": "markdown",
      "metadata": {
        "id": "view-in-github",
        "colab_type": "text"
      },
      "source": [
        "<a href=\"https://colab.research.google.com/github/krishbhowmick/NLP/blob/main/NLP1.4_BagofWords.ipynb\" target=\"_parent\"><img src=\"https://colab.research.google.com/assets/colab-badge.svg\" alt=\"Open In Colab\"/></a>"
      ]
    },
    {
      "cell_type": "code",
      "metadata": {
        "id": "gefcZ8w02mCZ"
      },
      "source": [
        "import nltk\n",
        "\n",
        "paragraph = \"\"\"Meditation is a practice where an individual uses a technique – such as mindfulness, \n",
        "           or focusing the mind on a particular object, thought, or activity – to train attention and awareness, \n",
        "          and achieve a mentally clear and emotionally calm and stable state.[1]:228–29[2]:180[3]:415[4]:107[5][6] \n",
        "          Scholars have found meditation elusive to define, as practices vary both between traditions and within them.\n",
        "          Meditation is practiced in numerous religious traditions. The earliest records of meditation (dhyana) are found \n",
        "          in the Vedas, and meditation exerts a salient role in the contemplative repertoire of Hinduism and Buddhism.[7] \n",
        "          Since the 19th century, Asian meditative techniques have spread to other cultures where they have also found \n",
        "          application in non-spiritual contexts, such as business and health. Meditation may significantly reduce stress,          \n",
        "          anxiety, depression, and pain,[8] and enhance peace, perception,[9] self-concept, and well-being. Meditation \n",
        "          is under research to substantiate its health (psychological, neurological, and cardiovascular) benefits \n",
        "          and other effects.\"\"\"\n"
      ],
      "execution_count": 1,
      "outputs": []
    },
    {
      "cell_type": "code",
      "metadata": {
        "id": "JfqCQzSw2oR4",
        "outputId": "7594c67d-b44f-4467-91b7-cc040a1d2a1f",
        "colab": {
          "base_uri": "https://localhost:8080/"
        }
      },
      "source": [
        "# Cleaning the texts\n",
        "import re                   # regular expressions (RE). It supports both 8-bit and Unicode strings; \n",
        "                            # both the pattern and the strings being processed can contain null bytes and \n",
        "                            # characters outside the US ASCII range.\n",
        "                            \n",
        "from nltk.corpus import stopwords\n",
        "from nltk.stem.porter import PorterStemmer\n",
        "from nltk.stem import WordNetLemmatizer\n",
        "\n",
        "nltk.download('punkt')\n",
        "nltk.download('stopwords')"
      ],
      "execution_count": 2,
      "outputs": [
        {
          "output_type": "stream",
          "text": [
            "[nltk_data] Downloading package punkt to /root/nltk_data...\n",
            "[nltk_data]   Unzipping tokenizers/punkt.zip.\n",
            "[nltk_data] Downloading package stopwords to /root/nltk_data...\n",
            "[nltk_data]   Unzipping corpora/stopwords.zip.\n"
          ],
          "name": "stdout"
        },
        {
          "output_type": "execute_result",
          "data": {
            "text/plain": [
              "True"
            ]
          },
          "metadata": {
            "tags": []
          },
          "execution_count": 2
        }
      ]
    },
    {
      "cell_type": "code",
      "metadata": {
        "id": "6U0pI4qo2ohw"
      },
      "source": [
        "ps = PorterStemmer()                        # Stemmer\n",
        "wordnet=WordNetLemmatizer()                 # Lemmatizer\n",
        "sentences = nltk.sent_tokenize(paragraph)   # paragraph to sentence\n"
      ],
      "execution_count": 3,
      "outputs": []
    },
    {
      "cell_type": "code",
      "metadata": {
        "id": "6uRt3_Qu2onA",
        "outputId": "ab3d1606-d771-46bd-b5b6-0f8ff209192b",
        "colab": {
          "base_uri": "https://localhost:8080/"
        }
      },
      "source": [
        "corpus = []\n",
        "for i in range(len(sentences)):\n",
        "    review = re.sub('[^a-zA-Z]', ' ', sentences[i])     # Apart from (a-zA-Z) along with (Space) in sentences-- to Remove Comma, Colon, Fullstop, Questionmark\n",
        "    review = review.lower()                             # Lower case in each sentences.... each word\n",
        "    review = review.split()                             # Split all the words (make list)\n",
        "    review = [ps.stem(word) for word in review if not word in set(stopwords.words('english'))]\n",
        "    review = ' '.join(review)\n",
        "    corpus.append(review)\n",
        "\n",
        "corpus"
      ],
      "execution_count": 4,
      "outputs": [
        {
          "output_type": "execute_result",
          "data": {
            "text/plain": [
              "['medit practic individu use techniqu mind focus mind particular object thought activ train attent awar achiev mental clear emot calm stabl state',\n",
              " 'scholar found medit elus defin practic vari tradit within',\n",
              " 'medit practic numer religi tradit',\n",
              " 'earliest record medit dhyana found veda medit exert salient role contempl repertoir hinduism buddhism',\n",
              " 'sinc th centuri asian medit techniqu spread cultur also found applic non spiritu context busi health',\n",
              " 'medit may significantli reduc stress anxieti depress pain enhanc peac percept self concept well',\n",
              " 'medit research substanti health psycholog neurolog cardiovascular benefit effect']"
            ]
          },
          "metadata": {
            "tags": []
          },
          "execution_count": 4
        }
      ]
    },
    {
      "cell_type": "code",
      "metadata": {
        "id": "qCjYKY2x2opN"
      },
      "source": [
        "# Creating the Bag of Words model\n",
        "from sklearn.feature_extraction.text import CountVectorizer\n",
        "cv = CountVectorizer(max_features = 1500)\n",
        "X = cv.fit_transform(corpus).toarray()"
      ],
      "execution_count": 5,
      "outputs": []
    },
    {
      "cell_type": "code",
      "metadata": {
        "id": "eRII6mMZ5Ysf",
        "outputId": "5ac0c452-8583-49aa-e8ae-f91fe17ffba0",
        "colab": {
          "base_uri": "https://localhost:8080/"
        }
      },
      "source": [
        "print(\"Shape of the matrix is-\",X.shape)\n",
        "print(\" \",X)"
      ],
      "execution_count": 8,
      "outputs": [
        {
          "output_type": "stream",
          "text": [
            "Shape of the matrix is- (7, 74)\n",
            "  [[1 1 0 0 0 0 1 1 0 0 0 1 0 0 1 0 0 0 0 0 0 0 0 0 0 1 0 0 1 0 0 0 1 0 1 1\n",
            "  2 0 0 0 1 0 1 0 0 1 0 0 0 0 0 0 0 0 0 0 0 0 0 0 1 1 0 0 1 0 1 0 1 1 0 0\n",
            "  0 0]\n",
            " [0 0 0 0 0 0 0 0 0 0 0 0 0 0 0 0 0 0 0 1 0 0 0 0 1 0 0 0 0 1 0 0 0 0 1 0\n",
            "  0 0 0 0 0 0 0 0 0 1 0 0 0 0 0 0 0 0 1 0 0 0 0 0 0 0 0 0 0 0 0 1 0 0 1 0\n",
            "  0 1]\n",
            " [0 0 0 0 0 0 0 0 0 0 0 0 0 0 0 0 0 0 0 0 0 0 0 0 0 0 0 0 0 0 0 0 0 0 1 0\n",
            "  0 0 0 1 0 0 0 0 0 1 0 0 0 1 0 0 0 0 0 0 0 0 0 0 0 0 0 0 0 0 0 1 0 0 0 0\n",
            "  0 0]\n",
            " [0 0 0 0 0 0 0 0 0 1 0 0 0 0 0 0 1 0 0 0 0 1 1 0 0 0 0 1 0 1 0 1 0 0 2 0\n",
            "  0 0 0 0 0 0 0 0 0 0 0 1 0 0 1 0 1 1 0 0 0 0 0 0 0 0 0 0 0 0 0 0 0 0 0 1\n",
            "  0 0]\n",
            " [0 0 1 0 1 1 0 0 0 0 1 0 0 1 0 0 0 1 1 0 0 0 0 0 0 0 0 0 0 1 1 0 0 0 1 0\n",
            "  0 0 1 0 0 0 0 0 0 0 0 0 0 0 0 0 0 0 0 0 0 1 1 1 0 0 0 0 1 1 0 0 0 0 0 0\n",
            "  0 0]\n",
            " [0 0 0 1 0 0 0 0 0 0 0 0 0 0 0 1 0 0 0 0 1 0 0 0 0 0 1 0 0 0 0 0 0 1 1 0\n",
            "  0 0 0 0 0 1 0 1 1 0 0 0 1 0 0 0 0 0 0 1 1 0 0 0 0 0 1 0 0 0 0 0 0 0 0 0\n",
            "  1 0]\n",
            " [0 0 0 0 0 0 0 0 1 0 0 0 1 0 0 0 0 0 0 0 0 0 0 1 0 0 0 0 0 0 1 0 0 0 1 0\n",
            "  0 1 0 0 0 0 0 0 0 0 1 0 0 0 0 1 0 0 0 0 0 0 0 0 0 0 0 1 0 0 0 0 0 0 0 0\n",
            "  0 0]]\n"
          ],
          "name": "stdout"
        }
      ]
    },
    {
      "cell_type": "code",
      "metadata": {
        "id": "D6APy18j5a5k"
      },
      "source": [
        ""
      ],
      "execution_count": 6,
      "outputs": []
    }
  ]
}