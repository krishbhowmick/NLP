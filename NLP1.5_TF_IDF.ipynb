{
  "nbformat": 4,
  "nbformat_minor": 0,
  "metadata": {
    "colab": {
      "name": "NLP1.5_TF-IDF",
      "provenance": [],
      "authorship_tag": "ABX9TyPWfn/Qi/gXeDn3MpK4Ra+f",
      "include_colab_link": true
    },
    "kernelspec": {
      "name": "python3",
      "display_name": "Python 3"
    }
  },
  "cells": [
    {
      "cell_type": "markdown",
      "metadata": {
        "id": "view-in-github",
        "colab_type": "text"
      },
      "source": [
        "<a href=\"https://colab.research.google.com/github/krishbhowmick/NLP/blob/main/NLP1.5_TF_IDF.ipynb\" target=\"_parent\"><img src=\"https://colab.research.google.com/assets/colab-badge.svg\" alt=\"Open In Colab\"/></a>"
      ]
    },
    {
      "cell_type": "code",
      "metadata": {
        "id": "2bURj72TMPvC"
      },
      "source": [
        "import nltk\n",
        "\n",
        "paragraph = \"\"\"Meditation is a practice where an individual uses a technique – such as mindfulness, \n",
        "          or focusing the mind on a particular object, thought, or activity – to train attention and awareness, \n",
        "          and achieve a mentally clear and emotionally calm and stable state.Scholars have found meditation \n",
        "          elusive to define, as practices vary both between traditions and within them.\n",
        "          Meditation is practiced in numerous religious traditions. The earliest records of meditation (dhyana) are found \n",
        "          in the Vedas, and meditation exerts a salient role in the contemplative repertoire of Hinduism and Buddhism.[7] \n",
        "          Since the 19th century, Asian meditative techniques have spread to other cultures where they have also found \n",
        "          application in non-spiritual contexts, such as business and health. Meditation may significantly reduce stress, \n",
        "          anxiety, depression, and pain,[8] and enhance peace, perception,[9] self-concept, and well-being.\n",
        "          Meditation is under research to substantiate its health (psychological, neurological, and cardiovascular) benefits \n",
        "          and other effects.\"\"\"\n",
        "               \n"
      ],
      "execution_count": 6,
      "outputs": []
    },
    {
      "cell_type": "code",
      "metadata": {
        "id": "brZyfRAGYf7r",
        "outputId": "440101a5-f2bd-4548-ddf4-a3cf4608efa8",
        "colab": {
          "base_uri": "https://localhost:8080/"
        }
      },
      "source": [
        "# Cleaning the texts\n",
        "import re\n",
        "from nltk.corpus import stopwords\n",
        "from nltk.stem.porter import PorterStemmer \n",
        "from nltk.stem import WordNetLemmatizer \n",
        "\n",
        "nltk.download('punkt')    \n",
        "nltk.download('stopwords')\n",
        "nltk.download('wordnet')"
      ],
      "execution_count": 7,
      "outputs": [
        {
          "output_type": "stream",
          "text": [
            "[nltk_data] Downloading package punkt to /root/nltk_data...\n",
            "[nltk_data]   Package punkt is already up-to-date!\n",
            "[nltk_data] Downloading package stopwords to /root/nltk_data...\n",
            "[nltk_data]   Package stopwords is already up-to-date!\n",
            "[nltk_data] Downloading package wordnet to /root/nltk_data...\n",
            "[nltk_data]   Package wordnet is already up-to-date!\n"
          ],
          "name": "stdout"
        },
        {
          "output_type": "execute_result",
          "data": {
            "text/plain": [
              "True"
            ]
          },
          "metadata": {
            "tags": []
          },
          "execution_count": 7
        }
      ]
    },
    {
      "cell_type": "code",
      "metadata": {
        "id": "wtr_vfc8MQdZ"
      },
      "source": [
        "\n",
        "\n",
        "ps = PorterStemmer()\n",
        "wordnet=WordNetLemmatizer()\n",
        "sentences = nltk.sent_tokenize(paragraph)\n",
        "corpus = []\n",
        "for i in range(len(sentences)):\n",
        "    review = re.sub('[^a-zA-Z]', ' ', sentences[i])\n",
        "    review = review.lower()\n",
        "    review = review.split()\n",
        "    review = [wordnet.lemmatize(word) for word in review if not word in set(stopwords.words('english'))]\n",
        "    review = ' '.join(review)\n",
        "    corpus.append(review)"
      ],
      "execution_count": 8,
      "outputs": []
    },
    {
      "cell_type": "code",
      "metadata": {
        "id": "kcZ9gJ-zMQh6"
      },
      "source": [
        "# Creating the TF-IDF model\n",
        "from sklearn.feature_extraction.text import TfidfVectorizer\n",
        "cv = TfidfVectorizer()\n",
        "X = cv.fit_transform(corpus).toarray()"
      ],
      "execution_count": 9,
      "outputs": []
    },
    {
      "cell_type": "code",
      "metadata": {
        "id": "uS18j_bNZgYw",
        "outputId": "d09738be-acf2-49ab-bf42-21f93831ef6e",
        "colab": {
          "base_uri": "https://localhost:8080/"
        }
      },
      "source": [
        "X"
      ],
      "execution_count": 10,
      "outputs": [
        {
          "output_type": "execute_result",
          "data": {
            "text/plain": [
              "array([[0.17997125, 0.17997125, 0.        , 0.        , 0.        ,\n",
              "        0.        , 0.17997125, 0.17997125, 0.        , 0.        ,\n",
              "        0.        , 0.17997125, 0.        , 0.        , 0.17997125,\n",
              "        0.        , 0.        , 0.        , 0.        , 0.17997125,\n",
              "        0.        , 0.        , 0.        , 0.        , 0.17997125,\n",
              "        0.17997125, 0.        , 0.        , 0.17997125, 0.12459633,\n",
              "        0.        , 0.        , 0.17997125, 0.        , 0.18440817,\n",
              "        0.        , 0.17997125, 0.17997125, 0.17997125, 0.        ,\n",
              "        0.        , 0.        , 0.17997125, 0.        , 0.17997125,\n",
              "        0.        , 0.        , 0.35994251, 0.        , 0.        ,\n",
              "        0.        , 0.        , 0.        , 0.        , 0.        ,\n",
              "        0.        , 0.        , 0.17997125, 0.        , 0.        ,\n",
              "        0.        , 0.        , 0.        , 0.17997125, 0.17997125,\n",
              "        0.        , 0.        , 0.147579  , 0.        , 0.17997125,\n",
              "        0.147579  , 0.17997125, 0.17997125, 0.17997125, 0.        ,\n",
              "        0.        , 0.17997125],\n",
              "       [0.        , 0.        , 0.        , 0.        , 0.        ,\n",
              "        0.        , 0.        , 0.        , 0.        , 0.        ,\n",
              "        0.        , 0.        , 0.        , 0.        , 0.        ,\n",
              "        0.        , 0.        , 0.        , 0.        , 0.        ,\n",
              "        0.        , 0.        , 0.        , 0.        , 0.        ,\n",
              "        0.        , 0.        , 0.        , 0.        , 0.        ,\n",
              "        0.        , 0.        , 0.        , 0.        , 0.25827362,\n",
              "        0.        , 0.        , 0.        , 0.        , 0.        ,\n",
              "        0.        , 0.50411896, 0.        , 0.        , 0.        ,\n",
              "        0.        , 0.        , 0.        , 0.50411896, 0.        ,\n",
              "        0.        , 0.        , 0.50411896, 0.        , 0.        ,\n",
              "        0.        , 0.        , 0.        , 0.        , 0.        ,\n",
              "        0.        , 0.        , 0.        , 0.        , 0.        ,\n",
              "        0.        , 0.        , 0.        , 0.        , 0.        ,\n",
              "        0.41338476, 0.        , 0.        , 0.        , 0.        ,\n",
              "        0.        , 0.        ],\n",
              "       [0.        , 0.        , 0.        , 0.        , 0.        ,\n",
              "        0.        , 0.        , 0.        , 0.        , 0.2825128 ,\n",
              "        0.        , 0.        , 0.        , 0.        , 0.        ,\n",
              "        0.        , 0.2825128 , 0.        , 0.        , 0.        ,\n",
              "        0.        , 0.2825128 , 0.2825128 , 0.        , 0.        ,\n",
              "        0.        , 0.        , 0.2825128 , 0.        , 0.19558712,\n",
              "        0.        , 0.2825128 , 0.        , 0.        , 0.28947772,\n",
              "        0.        , 0.        , 0.        , 0.        , 0.        ,\n",
              "        0.        , 0.        , 0.        , 0.        , 0.        ,\n",
              "        0.        , 0.        , 0.        , 0.        , 0.        ,\n",
              "        0.2825128 , 0.        , 0.        , 0.2825128 , 0.        ,\n",
              "        0.2825128 , 0.2825128 , 0.        , 0.        , 0.        ,\n",
              "        0.        , 0.        , 0.        , 0.        , 0.        ,\n",
              "        0.        , 0.        , 0.        , 0.        , 0.        ,\n",
              "        0.        , 0.        , 0.        , 0.        , 0.2825128 ,\n",
              "        0.        , 0.        ],\n",
              "       [0.        , 0.        , 0.25972586, 0.        , 0.25972586,\n",
              "        0.25972586, 0.        , 0.        , 0.        , 0.        ,\n",
              "        0.25972586, 0.        , 0.        , 0.25972586, 0.        ,\n",
              "        0.        , 0.        , 0.25972586, 0.25972586, 0.        ,\n",
              "        0.        , 0.        , 0.        , 0.        , 0.        ,\n",
              "        0.        , 0.        , 0.        , 0.        , 0.17981144,\n",
              "        0.21297892, 0.        , 0.        , 0.        , 0.        ,\n",
              "        0.25972586, 0.        , 0.        , 0.        , 0.        ,\n",
              "        0.25972586, 0.        , 0.        , 0.        , 0.        ,\n",
              "        0.        , 0.        , 0.        , 0.        , 0.        ,\n",
              "        0.        , 0.        , 0.        , 0.        , 0.        ,\n",
              "        0.        , 0.        , 0.        , 0.        , 0.        ,\n",
              "        0.25972586, 0.25972586, 0.25972586, 0.        , 0.        ,\n",
              "        0.        , 0.        , 0.21297892, 0.25972586, 0.        ,\n",
              "        0.        , 0.        , 0.        , 0.        , 0.        ,\n",
              "        0.        , 0.        ],\n",
              "       [0.        , 0.        , 0.        , 0.27459185, 0.        ,\n",
              "        0.        , 0.        , 0.        , 0.        , 0.        ,\n",
              "        0.        , 0.        , 0.        , 0.        , 0.        ,\n",
              "        0.27459185, 0.        , 0.        , 0.        , 0.        ,\n",
              "        0.27459185, 0.        , 0.        , 0.        , 0.        ,\n",
              "        0.        , 0.27459185, 0.        , 0.        , 0.        ,\n",
              "        0.        , 0.        , 0.        , 0.27459185, 0.14068075,\n",
              "        0.        , 0.        , 0.        , 0.        , 0.        ,\n",
              "        0.        , 0.        , 0.        , 0.27459185, 0.        ,\n",
              "        0.27459185, 0.27459185, 0.        , 0.        , 0.        ,\n",
              "        0.        , 0.27459185, 0.        , 0.        , 0.        ,\n",
              "        0.        , 0.        , 0.        , 0.27459185, 0.27459185,\n",
              "        0.        , 0.        , 0.        , 0.        , 0.        ,\n",
              "        0.27459185, 0.        , 0.        , 0.        , 0.        ,\n",
              "        0.        , 0.        , 0.        , 0.        , 0.        ,\n",
              "        0.27459185, 0.        ],\n",
              "       [0.        , 0.        , 0.        , 0.        , 0.        ,\n",
              "        0.        , 0.        , 0.        , 0.3550007 , 0.        ,\n",
              "        0.        , 0.        , 0.3550007 , 0.        , 0.        ,\n",
              "        0.        , 0.        , 0.        , 0.        , 0.        ,\n",
              "        0.        , 0.        , 0.        , 0.3550007 , 0.        ,\n",
              "        0.        , 0.        , 0.        , 0.        , 0.        ,\n",
              "        0.29110565, 0.        , 0.        , 0.        , 0.18187635,\n",
              "        0.        , 0.        , 0.        , 0.        , 0.3550007 ,\n",
              "        0.        , 0.        , 0.        , 0.        , 0.        ,\n",
              "        0.        , 0.        , 0.        , 0.        , 0.3550007 ,\n",
              "        0.        , 0.        , 0.        , 0.        , 0.3550007 ,\n",
              "        0.        , 0.        , 0.        , 0.        , 0.        ,\n",
              "        0.        , 0.        , 0.        , 0.        , 0.        ,\n",
              "        0.        , 0.3550007 , 0.        , 0.        , 0.        ,\n",
              "        0.        , 0.        , 0.        , 0.        , 0.        ,\n",
              "        0.        , 0.        ]])"
            ]
          },
          "metadata": {
            "tags": []
          },
          "execution_count": 10
        }
      ]
    },
    {
      "cell_type": "code",
      "metadata": {
        "id": "EcTcyRDdZiw3"
      },
      "source": [
        ""
      ],
      "execution_count": 10,
      "outputs": []
    }
  ]
}