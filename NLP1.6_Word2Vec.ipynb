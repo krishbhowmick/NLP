{
  "nbformat": 4,
  "nbformat_minor": 0,
  "metadata": {
    "colab": {
      "name": "NLP1.6_Word2Vec",
      "provenance": [],
      "authorship_tag": "ABX9TyMEGv0GDvW8pFYuQgZWNene",
      "include_colab_link": true
    },
    "kernelspec": {
      "name": "python3",
      "display_name": "Python 3"
    }
  },
  "cells": [
    {
      "cell_type": "markdown",
      "metadata": {
        "id": "view-in-github",
        "colab_type": "text"
      },
      "source": [
        "<a href=\"https://colab.research.google.com/github/krishbhowmick/NLP/blob/main/NLP1.6_Word2Vec.ipynb\" target=\"_parent\"><img src=\"https://colab.research.google.com/assets/colab-badge.svg\" alt=\"Open In Colab\"/></a>"
      ]
    },
    {
      "cell_type": "code",
      "metadata": {
        "id": "nTR9cJyKlWRF",
        "outputId": "d777a7da-0a4a-4b84-a29e-d52fa493ddfb",
        "colab": {
          "base_uri": "https://localhost:8080/"
        }
      },
      "source": [
        "import nltk\n",
        "\n",
        "from gensim.models import Word2Vec\n",
        "from nltk.corpus import stopwords\n",
        "\n",
        "import re\n",
        "\n",
        "nltk.download('punkt')\n",
        "nltk.download('stopwords')\n",
        "\n",
        "paragraph = \"\"\"Meditation is a practice where an individual uses a technique – such as mindfulness, \n",
        "          or focusing the mind on a particular object, thought, or activity – to train attention and awareness, \n",
        "          and achieve a mentally clear and emotionally calm and stable state.[1]:228–29[2]:180[3]:415[4]:107[5][6] \n",
        "          Scholars have found meditation elusive to define, as practices vary both between traditions and within them.\n",
        "          Meditation is practiced in numerous religious traditions. The earliest records of meditation (dhyana) are found \n",
        "          in the Vedas, and meditation exerts a salient role in the contemplative repertoire of Hinduism and Buddhism.[7] \n",
        "          Since the 19th century, Asian meditative techniques have spread to other cultures where they have also found \n",
        "          application in non-spiritual contexts, such as business and health. Meditation may significantly reduce stress, \n",
        "          anxiety, depression, and pain,[8] and enhance peace, perception,[9] self-concept, and well-being.[10][11][12][13] \n",
        "          Meditation is under research to substantiate its health (psychological, neurological, and cardiovascular) benefits \n",
        "          and other effects.\"\"\"\n"
      ],
      "execution_count": 9,
      "outputs": [
        {
          "output_type": "stream",
          "text": [
            "[nltk_data] Downloading package punkt to /root/nltk_data...\n",
            "[nltk_data]   Package punkt is already up-to-date!\n",
            "[nltk_data] Downloading package stopwords to /root/nltk_data...\n",
            "[nltk_data]   Package stopwords is already up-to-date!\n"
          ],
          "name": "stdout"
        }
      ]
    },
    {
      "cell_type": "code",
      "metadata": {
        "id": "ttwd-VIclXEI"
      },
      "source": [
        "# Preprocessing the data\n",
        "text = re.sub(r'\\[[0-9]*\\]',' ',paragraph)\n",
        "text = re.sub(r'\\s+',' ',text)\n",
        "text = text.lower()\n",
        "text = re.sub(r'\\d',' ',text)\n",
        "text = re.sub(r'\\s+',' ',text)"
      ],
      "execution_count": 10,
      "outputs": []
    },
    {
      "cell_type": "code",
      "metadata": {
        "id": "AUUUyYAxlXAG",
        "outputId": "74bdcb87-8c50-48fd-833a-f9238c088575",
        "colab": {
          "base_uri": "https://localhost:8080/",
          "height": 154
        }
      },
      "source": [
        "text"
      ],
      "execution_count": 11,
      "outputs": [
        {
          "output_type": "execute_result",
          "data": {
            "application/vnd.google.colaboratory.intrinsic+json": {
              "type": "string"
            },
            "text/plain": [
              "'meditation is a practice where an individual uses a technique – such as mindfulness, or focusing the mind on a particular object, thought, or activity – to train attention and awareness, and achieve a mentally clear and emotionally calm and stable state. : – : : : scholars have found meditation elusive to define, as practices vary both between traditions and within them. meditation is practiced in numerous religious traditions. the earliest records of meditation (dhyana) are found in the vedas, and meditation exerts a salient role in the contemplative repertoire of hinduism and buddhism. since the th century, asian meditative techniques have spread to other cultures where they have also found application in non-spiritual contexts, such as business and health. meditation may significantly reduce stress, anxiety, depression, and pain, and enhance peace, perception, self-concept, and well-being. meditation is under research to substantiate its health (psychological, neurological, and cardiovascular) benefits and other effects.'"
            ]
          },
          "metadata": {
            "tags": []
          },
          "execution_count": 11
        }
      ]
    },
    {
      "cell_type": "code",
      "metadata": {
        "id": "nQnO_EBmlW-J",
        "outputId": "573dcd7b-f475-4572-b2a2-c1e354985fac",
        "colab": {
          "base_uri": "https://localhost:8080/"
        }
      },
      "source": [
        "# Preparing the dataset\n",
        "sentences = nltk.sent_tokenize(text)\n",
        "sentences"
      ],
      "execution_count": 12,
      "outputs": [
        {
          "output_type": "execute_result",
          "data": {
            "text/plain": [
              "['meditation is a practice where an individual uses a technique – such as mindfulness, or focusing the mind on a particular object, thought, or activity – to train attention and awareness, and achieve a mentally clear and emotionally calm and stable state.',\n",
              " ': – : : : scholars have found meditation elusive to define, as practices vary both between traditions and within them.',\n",
              " 'meditation is practiced in numerous religious traditions.',\n",
              " 'the earliest records of meditation (dhyana) are found in the vedas, and meditation exerts a salient role in the contemplative repertoire of hinduism and buddhism.',\n",
              " 'since the th century, asian meditative techniques have spread to other cultures where they have also found application in non-spiritual contexts, such as business and health.',\n",
              " 'meditation may significantly reduce stress, anxiety, depression, and pain, and enhance peace, perception, self-concept, and well-being.',\n",
              " 'meditation is under research to substantiate its health (psychological, neurological, and cardiovascular) benefits and other effects.']"
            ]
          },
          "metadata": {
            "tags": []
          },
          "execution_count": 12
        }
      ]
    },
    {
      "cell_type": "code",
      "metadata": {
        "id": "9aTgDYLelXGZ"
      },
      "source": [
        "sentences = [nltk.word_tokenize(sentence) for sentence in sentences]\n",
        "\n",
        "for i in range(len(sentences)):\n",
        "    sentences[i] = [word for word in sentences[i] if word not in stopwords.words('english')]\n",
        "    \n"
      ],
      "execution_count": 13,
      "outputs": []
    },
    {
      "cell_type": "code",
      "metadata": {
        "id": "t2c_vFbllXKG",
        "outputId": "abadb012-ce92-42f6-feed-fcec835193dd",
        "colab": {
          "base_uri": "https://localhost:8080/"
        }
      },
      "source": [
        "# Training the Word2Vec model\n",
        "model = Word2Vec(sentences, min_count=1)\n",
        "print(\"--\",model)\n",
        "\n",
        "words = model.wv.vocab\n",
        "print(\"--\",words)\n"
      ],
      "execution_count": 14,
      "outputs": [
        {
          "output_type": "stream",
          "text": [
            "-- Word2Vec(vocab=83, size=100, alpha=0.025)\n",
            "-- {'meditation': <gensim.models.keyedvectors.Vocab object at 0x7f04a8547d68>, 'practice': <gensim.models.keyedvectors.Vocab object at 0x7f04a85484a8>, 'individual': <gensim.models.keyedvectors.Vocab object at 0x7f04a8548588>, 'uses': <gensim.models.keyedvectors.Vocab object at 0x7f04a8548eb8>, 'technique': <gensim.models.keyedvectors.Vocab object at 0x7f04a8548f28>, '–': <gensim.models.keyedvectors.Vocab object at 0x7f04a85486d8>, 'mindfulness': <gensim.models.keyedvectors.Vocab object at 0x7f04a8548710>, ',': <gensim.models.keyedvectors.Vocab object at 0x7f04a8548748>, 'focusing': <gensim.models.keyedvectors.Vocab object at 0x7f04a8548780>, 'mind': <gensim.models.keyedvectors.Vocab object at 0x7f04a8548be0>, 'particular': <gensim.models.keyedvectors.Vocab object at 0x7f04a8548cc0>, 'object': <gensim.models.keyedvectors.Vocab object at 0x7f04a8548c50>, 'thought': <gensim.models.keyedvectors.Vocab object at 0x7f04a8548dd8>, 'activity': <gensim.models.keyedvectors.Vocab object at 0x7f04a8548da0>, 'train': <gensim.models.keyedvectors.Vocab object at 0x7f04a8548d30>, 'attention': <gensim.models.keyedvectors.Vocab object at 0x7f04a8548cf8>, 'awareness': <gensim.models.keyedvectors.Vocab object at 0x7f04a85487f0>, 'achieve': <gensim.models.keyedvectors.Vocab object at 0x7f04a85488d0>, 'mentally': <gensim.models.keyedvectors.Vocab object at 0x7f04a8548898>, 'clear': <gensim.models.keyedvectors.Vocab object at 0x7f04a8548940>, 'emotionally': <gensim.models.keyedvectors.Vocab object at 0x7f04a8548978>, 'calm': <gensim.models.keyedvectors.Vocab object at 0x7f04a8548a20>, 'stable': <gensim.models.keyedvectors.Vocab object at 0x7f04a8548a90>, 'state': <gensim.models.keyedvectors.Vocab object at 0x7f04a85485c0>, '.': <gensim.models.keyedvectors.Vocab object at 0x7f04a85484e0>, ':': <gensim.models.keyedvectors.Vocab object at 0x7f04a8548550>, 'scholars': <gensim.models.keyedvectors.Vocab object at 0x7f04a85485f8>, 'found': <gensim.models.keyedvectors.Vocab object at 0x7f04a8548e48>, 'elusive': <gensim.models.keyedvectors.Vocab object at 0x7f04a8548f98>, 'define': <gensim.models.keyedvectors.Vocab object at 0x7f04a8548fd0>, 'practices': <gensim.models.keyedvectors.Vocab object at 0x7f04a8548668>, 'vary': <gensim.models.keyedvectors.Vocab object at 0x7f04a8548e10>, 'traditions': <gensim.models.keyedvectors.Vocab object at 0x7f04a8548b38>, 'within': <gensim.models.keyedvectors.Vocab object at 0x7f04a8548630>, 'practiced': <gensim.models.keyedvectors.Vocab object at 0x7f04a854e048>, 'numerous': <gensim.models.keyedvectors.Vocab object at 0x7f04a854e080>, 'religious': <gensim.models.keyedvectors.Vocab object at 0x7f04a854e0b8>, 'earliest': <gensim.models.keyedvectors.Vocab object at 0x7f04a854e0f0>, 'records': <gensim.models.keyedvectors.Vocab object at 0x7f04a854e128>, '(': <gensim.models.keyedvectors.Vocab object at 0x7f04a854e160>, 'dhyana': <gensim.models.keyedvectors.Vocab object at 0x7f04a854e198>, ')': <gensim.models.keyedvectors.Vocab object at 0x7f04a854e1d0>, 'vedas': <gensim.models.keyedvectors.Vocab object at 0x7f04a854e208>, 'exerts': <gensim.models.keyedvectors.Vocab object at 0x7f04a854e240>, 'salient': <gensim.models.keyedvectors.Vocab object at 0x7f04a854e278>, 'role': <gensim.models.keyedvectors.Vocab object at 0x7f04a854e2b0>, 'contemplative': <gensim.models.keyedvectors.Vocab object at 0x7f04a854e2e8>, 'repertoire': <gensim.models.keyedvectors.Vocab object at 0x7f04a854e320>, 'hinduism': <gensim.models.keyedvectors.Vocab object at 0x7f04a854e358>, 'buddhism': <gensim.models.keyedvectors.Vocab object at 0x7f04a854e390>, 'since': <gensim.models.keyedvectors.Vocab object at 0x7f04a854e3c8>, 'th': <gensim.models.keyedvectors.Vocab object at 0x7f04a854e400>, 'century': <gensim.models.keyedvectors.Vocab object at 0x7f04a854e438>, 'asian': <gensim.models.keyedvectors.Vocab object at 0x7f04a854e470>, 'meditative': <gensim.models.keyedvectors.Vocab object at 0x7f04a854e4a8>, 'techniques': <gensim.models.keyedvectors.Vocab object at 0x7f04a854e4e0>, 'spread': <gensim.models.keyedvectors.Vocab object at 0x7f04a854e518>, 'cultures': <gensim.models.keyedvectors.Vocab object at 0x7f04a854e550>, 'also': <gensim.models.keyedvectors.Vocab object at 0x7f04a854e588>, 'application': <gensim.models.keyedvectors.Vocab object at 0x7f04a854e5c0>, 'non-spiritual': <gensim.models.keyedvectors.Vocab object at 0x7f04a854e5f8>, 'contexts': <gensim.models.keyedvectors.Vocab object at 0x7f04a854e630>, 'business': <gensim.models.keyedvectors.Vocab object at 0x7f04a854e668>, 'health': <gensim.models.keyedvectors.Vocab object at 0x7f04a854e6a0>, 'may': <gensim.models.keyedvectors.Vocab object at 0x7f04a854e6d8>, 'significantly': <gensim.models.keyedvectors.Vocab object at 0x7f04a854e710>, 'reduce': <gensim.models.keyedvectors.Vocab object at 0x7f04a854e748>, 'stress': <gensim.models.keyedvectors.Vocab object at 0x7f04a854e780>, 'anxiety': <gensim.models.keyedvectors.Vocab object at 0x7f04a854e7b8>, 'depression': <gensim.models.keyedvectors.Vocab object at 0x7f04a854e7f0>, 'pain': <gensim.models.keyedvectors.Vocab object at 0x7f04a854e828>, 'enhance': <gensim.models.keyedvectors.Vocab object at 0x7f04a854e860>, 'peace': <gensim.models.keyedvectors.Vocab object at 0x7f04a854e898>, 'perception': <gensim.models.keyedvectors.Vocab object at 0x7f04a854e8d0>, 'self-concept': <gensim.models.keyedvectors.Vocab object at 0x7f04a854e908>, 'well-being': <gensim.models.keyedvectors.Vocab object at 0x7f04a854e940>, 'research': <gensim.models.keyedvectors.Vocab object at 0x7f04a854e978>, 'substantiate': <gensim.models.keyedvectors.Vocab object at 0x7f04a854e9b0>, 'psychological': <gensim.models.keyedvectors.Vocab object at 0x7f04a854e9e8>, 'neurological': <gensim.models.keyedvectors.Vocab object at 0x7f04a854ea20>, 'cardiovascular': <gensim.models.keyedvectors.Vocab object at 0x7f04a854ea58>, 'benefits': <gensim.models.keyedvectors.Vocab object at 0x7f04a854ea90>, 'effects': <gensim.models.keyedvectors.Vocab object at 0x7f04a854eac8>}\n"
          ],
          "name": "stdout"
        }
      ]
    },
    {
      "cell_type": "code",
      "metadata": {
        "id": "2HWcBrlWmCPx"
      },
      "source": [
        "# Finding Word Vectors\n",
        "vector = model.wv['mentally']\n"
      ],
      "execution_count": 15,
      "outputs": []
    },
    {
      "cell_type": "code",
      "metadata": {
        "id": "T9LerFPopEIj",
        "outputId": "71a9310d-3166-4b61-ddf3-4f5471f84862",
        "colab": {
          "base_uri": "https://localhost:8080/"
        }
      },
      "source": [
        "# Most similar words\n",
        "similar = model.wv.most_similar('traditions')"
      ],
      "execution_count": 17,
      "outputs": [
        {
          "output_type": "stream",
          "text": [
            "/usr/local/lib/python3.6/dist-packages/gensim/matutils.py:737: FutureWarning: Conversion of the second argument of issubdtype from `int` to `np.signedinteger` is deprecated. In future, it will be treated as `np.int64 == np.dtype(int).type`.\n",
            "  if np.issubdtype(vec.dtype, np.int):\n"
          ],
          "name": "stderr"
        }
      ]
    },
    {
      "cell_type": "code",
      "metadata": {
        "id": "n-zZip2vGGjg"
      },
      "source": [
        ""
      ],
      "execution_count": null,
      "outputs": []
    }
  ]
}