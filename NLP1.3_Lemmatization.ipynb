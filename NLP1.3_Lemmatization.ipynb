{
  "nbformat": 4,
  "nbformat_minor": 0,
  "metadata": {
    "colab": {
      "name": "NLP1.3_Lemmatization",
      "provenance": [],
      "authorship_tag": "ABX9TyOhHm+pa5zBzKuSF4Y4oU7S",
      "include_colab_link": true
    },
    "kernelspec": {
      "name": "python3",
      "display_name": "Python 3"
    }
  },
  "cells": [
    {
      "cell_type": "markdown",
      "metadata": {
        "id": "view-in-github",
        "colab_type": "text"
      },
      "source": [
        "<a href=\"https://colab.research.google.com/github/krishbhowmick/NLP/blob/main/NLP1.3_Lemmatization.ipynb\" target=\"_parent\"><img src=\"https://colab.research.google.com/assets/colab-badge.svg\" alt=\"Open In Colab\"/></a>"
      ]
    },
    {
      "cell_type": "code",
      "metadata": {
        "id": "MgTMbD7zLnde",
        "outputId": "c5513e5a-c263-4dfc-ab1e-330866308463",
        "colab": {
          "base_uri": "https://localhost:8080/"
        }
      },
      "source": [
        "import nltk\n",
        "from nltk.stem import WordNetLemmatizer     # Lemmatize using WordNet's built-in morphy function.\n",
        "from nltk.corpus import stopwords           # List of common words, one per line.  Blank lines are ignored.\n",
        "\n",
        "nltk.download('punkt')\n",
        "nltk.download('stopwords')\n",
        "nltk.download('wordnet')"
      ],
      "execution_count": 1,
      "outputs": [
        {
          "output_type": "stream",
          "text": [
            "[nltk_data] Downloading package punkt to /root/nltk_data...\n",
            "[nltk_data]   Unzipping tokenizers/punkt.zip.\n",
            "[nltk_data] Downloading package stopwords to /root/nltk_data...\n",
            "[nltk_data]   Unzipping corpora/stopwords.zip.\n",
            "[nltk_data] Downloading package wordnet to /root/nltk_data...\n",
            "[nltk_data]   Unzipping corpora/wordnet.zip.\n"
          ],
          "name": "stdout"
        },
        {
          "output_type": "execute_result",
          "data": {
            "text/plain": [
              "True"
            ]
          },
          "metadata": {
            "tags": []
          },
          "execution_count": 1
        }
      ]
    },
    {
      "cell_type": "code",
      "metadata": {
        "id": "CAXSiqzlcj8p"
      },
      "source": [
        "paragraph = \"\"\"Meditation is a practice where an individual uses a technique – such as mindfulness, \n",
        "              or focusing the mind on a particular object, thought, or activity – to train attention and awareness, \n",
        "              and achieve a mentally clear and emotionally calm and stable state.[1]:228–29[2]:180[3]:415[4]:107[5][6] \n",
        "              Scholars have found meditation elusive to define, as practices vary both between traditions and within them.\n",
        "              Meditation is practiced in numerous religious traditions. The earliest records of meditation (dhyana) are found \n",
        "              in the Vedas, and meditation exerts a salient role in the contemplative repertoire of Hinduism and Buddhism.[7] \n",
        "              Since the 19th century, Asian meditative techniques have spread to other cultures where they have also found \n",
        "              application in non-spiritual contexts, such as business and health. Meditation may significantly reduce stress, \n",
        "              anxiety, depression, and pain,[8] and enhance peace, perception,[9] self-concept, and well-being.[10][11][12][13] \n",
        "              Meditation is under research to substantiate its health (psychological, neurological, and cardiovascular) benefits \n",
        "              and other effects.\"\"\"\n",
        "               \n",
        "               "
      ],
      "execution_count": 2,
      "outputs": []
    },
    {
      "cell_type": "code",
      "metadata": {
        "id": "NS8XKmvsckLV",
        "outputId": "8ce3a025-2af8-49ad-fb63-8c067db21f4d",
        "colab": {
          "base_uri": "https://localhost:8080/"
        }
      },
      "source": [
        "sentences = nltk.sent_tokenize(paragraph)\n",
        "sentences       "
      ],
      "execution_count": 3,
      "outputs": [
        {
          "output_type": "execute_result",
          "data": {
            "text/plain": [
              "['Meditation is a practice where an individual uses a technique – such as mindfulness, \\n              or focusing the mind on a particular object, thought, or activity – to train attention and awareness, \\n              and achieve a mentally clear and emotionally calm and stable state.',\n",
              " '[1]:228–29[2]:180[3]:415[4]:107[5][6] \\n              Scholars have found meditation elusive to define, as practices vary both between traditions and within them.',\n",
              " 'Meditation is practiced in numerous religious traditions.',\n",
              " 'The earliest records of meditation (dhyana) are found \\n              in the Vedas, and meditation exerts a salient role in the contemplative repertoire of Hinduism and Buddhism.',\n",
              " '[7] \\n              Since the 19th century, Asian meditative techniques have spread to other cultures where they have also found \\n              application in non-spiritual contexts, such as business and health.',\n",
              " 'Meditation may significantly reduce stress, \\n              anxiety, depression, and pain,[8] and enhance peace, perception,[9] self-concept, and well-being.',\n",
              " '[10][11][12][13] \\n              Meditation is under research to substantiate its health (psychological, neurological, and cardiovascular) benefits \\n              and other effects.']"
            ]
          },
          "metadata": {
            "tags": []
          },
          "execution_count": 3
        }
      ]
    },
    {
      "cell_type": "code",
      "metadata": {
        "id": "fZ7lsbl-den1",
        "outputId": "472045a2-48a0-4c52-ef75-6993cc545006",
        "colab": {
          "base_uri": "https://localhost:8080/"
        }
      },
      "source": [
        "# Lemmatization\n",
        "lemmatizer = WordNetLemmatizer() \n",
        "\n",
        "for i in range(len(sentences)):\n",
        "    words = nltk.word_tokenize(sentences[i])\n",
        "    words = [lemmatizer.lemmatize(word) for word in words if word not in set(stopwords.words('english'))]\n",
        "    sentences[i] = ' '.join(words)\n",
        "    \n",
        "sentences"
      ],
      "execution_count": 4,
      "outputs": [
        {
          "output_type": "execute_result",
          "data": {
            "text/plain": [
              "['Meditation practice individual us technique – mindfulness , focusing mind particular object , thought , activity – train attention awareness , achieve mentally clear emotionally calm stable state .',\n",
              " '[ 1 ] :228–29 [ 2 ] :180 [ 3 ] :415 [ 4 ] :107 [ 5 ] [ 6 ] Scholars found meditation elusive define , practice vary tradition within .',\n",
              " 'Meditation practiced numerous religious tradition .',\n",
              " 'The earliest record meditation ( dhyana ) found Vedas , meditation exerts salient role contemplative repertoire Hinduism Buddhism .',\n",
              " '[ 7 ] Since 19th century , Asian meditative technique spread culture also found application non-spiritual context , business health .',\n",
              " 'Meditation may significantly reduce stress , anxiety , depression , pain , [ 8 ] enhance peace , perception , [ 9 ] self-concept , well-being .',\n",
              " '[ 10 ] [ 11 ] [ 12 ] [ 13 ] Meditation research substantiate health ( psychological , neurological , cardiovascular ) benefit effect .']"
            ]
          },
          "metadata": {
            "tags": []
          },
          "execution_count": 4
        }
      ]
    },
    {
      "cell_type": "code",
      "metadata": {
        "id": "T1dziVK2tSMl"
      },
      "source": [
        ""
      ],
      "execution_count": 4,
      "outputs": []
    }
  ]
}