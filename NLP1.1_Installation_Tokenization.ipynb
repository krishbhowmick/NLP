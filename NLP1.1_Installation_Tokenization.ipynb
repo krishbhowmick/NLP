{
  "nbformat": 4,
  "nbformat_minor": 0,
  "metadata": {
    "colab": {
      "name": "NLP1.1_Installation_Tokenization",
      "provenance": [],
      "authorship_tag": "ABX9TyMDliqvQtc5w/kfeqP9JMN6",
      "include_colab_link": true
    },
    "kernelspec": {
      "name": "python3",
      "display_name": "Python 3"
    }
  },
  "cells": [
    {
      "cell_type": "markdown",
      "metadata": {
        "id": "view-in-github",
        "colab_type": "text"
      },
      "source": [
        "<a href=\"https://colab.research.google.com/github/krishbhowmick/NLP/blob/main/NLP1.1_Installation_Tokenization.ipynb\" target=\"_parent\"><img src=\"https://colab.research.google.com/assets/colab-badge.svg\" alt=\"Open In Colab\"/></a>"
      ]
    },
    {
      "cell_type": "code",
      "metadata": {
        "id": "1TyqrYlVToni"
      },
      "source": [
        "#from google.colab import drive\n",
        "#drive.mount('/content/drive/')"
      ],
      "execution_count": 12,
      "outputs": []
    },
    {
      "cell_type": "code",
      "metadata": {
        "id": "CUSLs3mKWERG",
        "outputId": "aafcd627-be3f-475b-e945-1278b959647c",
        "colab": {
          "base_uri": "https://localhost:8080/"
        }
      },
      "source": [
        "# Tokenization of paragraphs/sentences\n",
        "!pip install -q wordcloud\n",
        "import wordcloud\n",
        "\n",
        "import nltk\n",
        "nltk.download('stopwords')\n",
        "nltk.download('wordnet')\n",
        "nltk.download('punkt')\n",
        "nltk.download('averaged_perceptron_tagger')\n",
        "\n",
        "#nltk.download()"
      ],
      "execution_count": 13,
      "outputs": [
        {
          "output_type": "stream",
          "text": [
            "[nltk_data] Downloading package stopwords to /root/nltk_data...\n",
            "[nltk_data]   Package stopwords is already up-to-date!\n",
            "[nltk_data] Downloading package wordnet to /root/nltk_data...\n",
            "[nltk_data]   Package wordnet is already up-to-date!\n",
            "[nltk_data] Downloading package punkt to /root/nltk_data...\n",
            "[nltk_data]   Package punkt is already up-to-date!\n",
            "[nltk_data] Downloading package averaged_perceptron_tagger to\n",
            "[nltk_data]     /root/nltk_data...\n",
            "[nltk_data]   Package averaged_perceptron_tagger is already up-to-\n",
            "[nltk_data]       date!\n"
          ],
          "name": "stdout"
        },
        {
          "output_type": "execute_result",
          "data": {
            "text/plain": [
              "True"
            ]
          },
          "metadata": {
            "tags": []
          },
          "execution_count": 13
        }
      ]
    },
    {
      "cell_type": "code",
      "metadata": {
        "id": "wwdKOOrbYJmU"
      },
      "source": [
        ""
      ],
      "execution_count": 13,
      "outputs": []
    },
    {
      "cell_type": "code",
      "metadata": {
        "id": "1iOZ9h5LWEV8"
      },
      "source": [
        "paragraph = \"\"\"Meditation is a practice where an individual uses a technique – such as mindfulness, \n",
        "              or focusing the mind on a particular object, thought, or activity – to train attention and awareness, \n",
        "              and achieve a mentally clear and emotionally calm and stable state.[1]:228–29[2]:180[3]:415[4]:107[5][6] \n",
        "              Scholars have found meditation elusive to define, as practices vary both between traditions and within them.\n",
        "              Meditation is practiced in numerous religious traditions. The earliest records of meditation (dhyana) are found \n",
        "              in the Vedas, and meditation exerts a salient role in the contemplative repertoire of Hinduism and Buddhism.[7] \n",
        "              Since the 19th century, Asian meditative techniques have spread to other cultures where they have also found \n",
        "              application in non-spiritual contexts, such as business and health. Meditation may significantly reduce stress, \n",
        "              anxiety, depression, and pain,[8] and enhance peace, perception,[9] self-concept, and well-being.[10][11][12][13] \n",
        "              Meditation is under research to substantiate its health (psychological, neurological, and cardiovascular) benefits \n",
        "              and other effects.\"\"\"\n"
      ],
      "execution_count": 14,
      "outputs": []
    },
    {
      "cell_type": "code",
      "metadata": {
        "id": "qkriF7xKWE2L",
        "outputId": "d7f1b0e3-0ecc-417b-b315-392b812a3c30",
        "colab": {
          "base_uri": "https://localhost:8080/"
        }
      },
      "source": [
        "# Tokenizing sentences\n",
        "sentences = nltk.sent_tokenize(paragraph)\n",
        "sentences"
      ],
      "execution_count": 15,
      "outputs": [
        {
          "output_type": "execute_result",
          "data": {
            "text/plain": [
              "['Meditation is a practice where an individual uses a technique – such as mindfulness, \\n              or focusing the mind on a particular object, thought, or activity – to train attention and awareness, \\n              and achieve a mentally clear and emotionally calm and stable state.',\n",
              " '[1]:228–29[2]:180[3]:415[4]:107[5][6] \\n              Scholars have found meditation elusive to define, as practices vary both between traditions and within them.',\n",
              " 'Meditation is practiced in numerous religious traditions.',\n",
              " 'The earliest records of meditation (dhyana) are found \\n              in the Vedas, and meditation exerts a salient role in the contemplative repertoire of Hinduism and Buddhism.',\n",
              " '[7] \\n              Since the 19th century, Asian meditative techniques have spread to other cultures where they have also found \\n              application in non-spiritual contexts, such as business and health.',\n",
              " 'Meditation may significantly reduce stress, \\n              anxiety, depression, and pain,[8] and enhance peace, perception,[9] self-concept, and well-being.',\n",
              " '[10][11][12][13] \\n              Meditation is under research to substantiate its health (psychological, neurological, and cardiovascular) benefits \\n              and other effects.']"
            ]
          },
          "metadata": {
            "tags": []
          },
          "execution_count": 15
        }
      ]
    },
    {
      "cell_type": "code",
      "metadata": {
        "id": "vIULCZxmWEUp",
        "outputId": "9231f232-8e4b-43eb-e126-88372f1136c6",
        "colab": {
          "base_uri": "https://localhost:8080/"
        }
      },
      "source": [
        "# Tokenizing words\n",
        "words = nltk.word_tokenize(paragraph)\n",
        "words"
      ],
      "execution_count": 16,
      "outputs": [
        {
          "output_type": "execute_result",
          "data": {
            "text/plain": [
              "['Meditation',\n",
              " 'is',\n",
              " 'a',\n",
              " 'practice',\n",
              " 'where',\n",
              " 'an',\n",
              " 'individual',\n",
              " 'uses',\n",
              " 'a',\n",
              " 'technique',\n",
              " '–',\n",
              " 'such',\n",
              " 'as',\n",
              " 'mindfulness',\n",
              " ',',\n",
              " 'or',\n",
              " 'focusing',\n",
              " 'the',\n",
              " 'mind',\n",
              " 'on',\n",
              " 'a',\n",
              " 'particular',\n",
              " 'object',\n",
              " ',',\n",
              " 'thought',\n",
              " ',',\n",
              " 'or',\n",
              " 'activity',\n",
              " '–',\n",
              " 'to',\n",
              " 'train',\n",
              " 'attention',\n",
              " 'and',\n",
              " 'awareness',\n",
              " ',',\n",
              " 'and',\n",
              " 'achieve',\n",
              " 'a',\n",
              " 'mentally',\n",
              " 'clear',\n",
              " 'and',\n",
              " 'emotionally',\n",
              " 'calm',\n",
              " 'and',\n",
              " 'stable',\n",
              " 'state',\n",
              " '.',\n",
              " '[',\n",
              " '1',\n",
              " ']',\n",
              " ':228–29',\n",
              " '[',\n",
              " '2',\n",
              " ']',\n",
              " ':180',\n",
              " '[',\n",
              " '3',\n",
              " ']',\n",
              " ':415',\n",
              " '[',\n",
              " '4',\n",
              " ']',\n",
              " ':107',\n",
              " '[',\n",
              " '5',\n",
              " ']',\n",
              " '[',\n",
              " '6',\n",
              " ']',\n",
              " 'Scholars',\n",
              " 'have',\n",
              " 'found',\n",
              " 'meditation',\n",
              " 'elusive',\n",
              " 'to',\n",
              " 'define',\n",
              " ',',\n",
              " 'as',\n",
              " 'practices',\n",
              " 'vary',\n",
              " 'both',\n",
              " 'between',\n",
              " 'traditions',\n",
              " 'and',\n",
              " 'within',\n",
              " 'them',\n",
              " '.',\n",
              " 'Meditation',\n",
              " 'is',\n",
              " 'practiced',\n",
              " 'in',\n",
              " 'numerous',\n",
              " 'religious',\n",
              " 'traditions',\n",
              " '.',\n",
              " 'The',\n",
              " 'earliest',\n",
              " 'records',\n",
              " 'of',\n",
              " 'meditation',\n",
              " '(',\n",
              " 'dhyana',\n",
              " ')',\n",
              " 'are',\n",
              " 'found',\n",
              " 'in',\n",
              " 'the',\n",
              " 'Vedas',\n",
              " ',',\n",
              " 'and',\n",
              " 'meditation',\n",
              " 'exerts',\n",
              " 'a',\n",
              " 'salient',\n",
              " 'role',\n",
              " 'in',\n",
              " 'the',\n",
              " 'contemplative',\n",
              " 'repertoire',\n",
              " 'of',\n",
              " 'Hinduism',\n",
              " 'and',\n",
              " 'Buddhism',\n",
              " '.',\n",
              " '[',\n",
              " '7',\n",
              " ']',\n",
              " 'Since',\n",
              " 'the',\n",
              " '19th',\n",
              " 'century',\n",
              " ',',\n",
              " 'Asian',\n",
              " 'meditative',\n",
              " 'techniques',\n",
              " 'have',\n",
              " 'spread',\n",
              " 'to',\n",
              " 'other',\n",
              " 'cultures',\n",
              " 'where',\n",
              " 'they',\n",
              " 'have',\n",
              " 'also',\n",
              " 'found',\n",
              " 'application',\n",
              " 'in',\n",
              " 'non-spiritual',\n",
              " 'contexts',\n",
              " ',',\n",
              " 'such',\n",
              " 'as',\n",
              " 'business',\n",
              " 'and',\n",
              " 'health',\n",
              " '.',\n",
              " 'Meditation',\n",
              " 'may',\n",
              " 'significantly',\n",
              " 'reduce',\n",
              " 'stress',\n",
              " ',',\n",
              " 'anxiety',\n",
              " ',',\n",
              " 'depression',\n",
              " ',',\n",
              " 'and',\n",
              " 'pain',\n",
              " ',',\n",
              " '[',\n",
              " '8',\n",
              " ']',\n",
              " 'and',\n",
              " 'enhance',\n",
              " 'peace',\n",
              " ',',\n",
              " 'perception',\n",
              " ',',\n",
              " '[',\n",
              " '9',\n",
              " ']',\n",
              " 'self-concept',\n",
              " ',',\n",
              " 'and',\n",
              " 'well-being',\n",
              " '.',\n",
              " '[',\n",
              " '10',\n",
              " ']',\n",
              " '[',\n",
              " '11',\n",
              " ']',\n",
              " '[',\n",
              " '12',\n",
              " ']',\n",
              " '[',\n",
              " '13',\n",
              " ']',\n",
              " 'Meditation',\n",
              " 'is',\n",
              " 'under',\n",
              " 'research',\n",
              " 'to',\n",
              " 'substantiate',\n",
              " 'its',\n",
              " 'health',\n",
              " '(',\n",
              " 'psychological',\n",
              " ',',\n",
              " 'neurological',\n",
              " ',',\n",
              " 'and',\n",
              " 'cardiovascular',\n",
              " ')',\n",
              " 'benefits',\n",
              " 'and',\n",
              " 'other',\n",
              " 'effects',\n",
              " '.']"
            ]
          },
          "metadata": {
            "tags": []
          },
          "execution_count": 16
        }
      ]
    },
    {
      "cell_type": "code",
      "metadata": {
        "id": "uXrLDVRubetp"
      },
      "source": [
        ""
      ],
      "execution_count": 16,
      "outputs": []
    }
  ]
}