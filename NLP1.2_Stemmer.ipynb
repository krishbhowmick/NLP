{
  "nbformat": 4,
  "nbformat_minor": 0,
  "metadata": {
    "colab": {
      "name": "NLP1.2_Stemmer",
      "provenance": [],
      "authorship_tag": "ABX9TyPOypshcWYibHUm1NgtJLIZ",
      "include_colab_link": true
    },
    "kernelspec": {
      "name": "python3",
      "display_name": "Python 3"
    }
  },
  "cells": [
    {
      "cell_type": "markdown",
      "metadata": {
        "id": "view-in-github",
        "colab_type": "text"
      },
      "source": [
        "<a href=\"https://colab.research.google.com/github/krishbhowmick/NLP/blob/main/NLP1.2_Stemmer.ipynb\" target=\"_parent\"><img src=\"https://colab.research.google.com/assets/colab-badge.svg\" alt=\"Open In Colab\"/></a>"
      ]
    },
    {
      "cell_type": "code",
      "metadata": {
        "id": "rz4FeOi91rmJ",
        "outputId": "f008faca-6042-44eb-e03e-26be76555b40",
        "colab": {
          "base_uri": "https://localhost:8080/"
        }
      },
      "source": [
        "import nltk\n",
        "from nltk.stem import PorterStemmer\n",
        "from nltk.corpus import stopwords\n",
        "\n",
        "nltk.download('punkt')        \n",
        "nltk.download('stopwords')"
      ],
      "execution_count": 1,
      "outputs": [
        {
          "output_type": "stream",
          "text": [
            "[nltk_data] Downloading package punkt to /root/nltk_data...\n",
            "[nltk_data]   Unzipping tokenizers/punkt.zip.\n",
            "[nltk_data] Downloading package stopwords to /root/nltk_data...\n",
            "[nltk_data]   Unzipping corpora/stopwords.zip.\n"
          ],
          "name": "stdout"
        },
        {
          "output_type": "execute_result",
          "data": {
            "text/plain": [
              "True"
            ]
          },
          "metadata": {
            "tags": []
          },
          "execution_count": 1
        }
      ]
    },
    {
      "cell_type": "code",
      "metadata": {
        "id": "FIL0GTUvg94w"
      },
      "source": [
        "paragraph = \"\"\"Meditation is a practice where an individual uses a technique – such as mindfulness, \n",
        "              or focusing the mind on a particular object, thought, or activity – to train attention and awareness, \n",
        "              and achieve a mentally clear and emotionally calm and stable state.[1]:228–29[2]:180[3]:415[4]:107[5][6] \n",
        "              Scholars have found meditation elusive to define, as practices vary both between traditions and within them.\n",
        "              Meditation is practiced in numerous religious traditions. The earliest records of meditation (dhyana) are found \n",
        "              in the Vedas, and meditation exerts a salient role in the contemplative repertoire of Hinduism and Buddhism.[7] \n",
        "              Since the 19th century, Asian meditative techniques have spread to other cultures where they have also found \n",
        "              application in non-spiritual contexts, such as business and health. Meditation may significantly reduce stress, \n",
        "              anxiety, depression, and pain,[8] and enhance peace, perception,[9] self-concept, and well-being.[10][11][12][13] \n",
        "              Meditation is under research to substantiate its health (psychological, neurological, and cardiovascular) benefits \n",
        "              and other effects.\"\"\"\n",
        "               \n",
        "     "
      ],
      "execution_count": 2,
      "outputs": []
    },
    {
      "cell_type": "code",
      "metadata": {
        "id": "-Ao93vmfg1jB"
      },
      "source": [
        "sentences = nltk.sent_tokenize(paragraph)    # broke paragraph into sentences\n",
        "\n",
        "\n"
      ],
      "execution_count": 3,
      "outputs": []
    },
    {
      "cell_type": "code",
      "metadata": {
        "id": "bbDz78ifg1qF",
        "outputId": "e5f86033-33a5-4247-b934-04a690d8db46",
        "colab": {
          "base_uri": "https://localhost:8080/"
        }
      },
      "source": [
        "# Stemming\n",
        "stemmer = PorterStemmer()                    # Stemmer\n",
        "\n",
        "for i in range(len(sentences)):\n",
        "    words = nltk.word_tokenize(sentences[i])\n",
        "    words = [stemmer.stem(word) for word in words if word not in set(stopwords.words('english'))]\n",
        "    sentences[i] = ' '.join(words)   \n",
        "\n",
        "# ?????????\n",
        "\n",
        "print(\"So the stemmer are-\",sentences)"
      ],
      "execution_count": 4,
      "outputs": [
        {
          "output_type": "stream",
          "text": [
            "So the stemmer are- ['medit practic individu use techniqu – mind , focus mind particular object , thought , activ – train attent awar , achiev mental clear emot calm stabl state .', '[ 1 ] :228–29 [ 2 ] :180 [ 3 ] :415 [ 4 ] :107 [ 5 ] [ 6 ] scholar found medit elus defin , practic vari tradit within .', 'medit practic numer religi tradit .', 'the earliest record medit ( dhyana ) found veda , medit exert salient role contempl repertoir hinduism buddhism .', '[ 7 ] sinc 19th centuri , asian medit techniqu spread cultur also found applic non-spiritu context , busi health .', 'medit may significantli reduc stress , anxieti , depress , pain , [ 8 ] enhanc peac , percept , [ 9 ] self-concept , well-b .', '[ 10 ] [ 11 ] [ 12 ] [ 13 ] medit research substanti health ( psycholog , neurolog , cardiovascular ) benefit effect .']\n"
          ],
          "name": "stdout"
        }
      ]
    },
    {
      "cell_type": "code",
      "metadata": {
        "id": "ZlIDwRudhOUr"
      },
      "source": [
        ""
      ],
      "execution_count": 4,
      "outputs": []
    }
  ]
}