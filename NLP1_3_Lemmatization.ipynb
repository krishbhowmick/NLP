{
  "nbformat": 4,
  "nbformat_minor": 0,
  "metadata": {
    "colab": {
      "name": "NLP1.3_Lemmatization",
      "provenance": [],
      "authorship_tag": "ABX9TyOWgNICk2cvjUpqPp5VGjnY",
      "include_colab_link": true
    },
    "kernelspec": {
      "name": "python3",
      "display_name": "Python 3"
    }
  },
  "cells": [
    {
      "cell_type": "markdown",
      "metadata": {
        "id": "view-in-github",
        "colab_type": "text"
      },
      "source": [
        "<a href=\"https://colab.research.google.com/github/krishbhowmick/NLP/blob/main/NLP1_3_Lemmatization.ipynb\" target=\"_parent\"><img src=\"https://colab.research.google.com/assets/colab-badge.svg\" alt=\"Open In Colab\"/></a>"
      ]
    },
    {
      "cell_type": "code",
      "metadata": {
        "id": "MgTMbD7zLnde",
        "outputId": "2462660b-fc02-4aa0-d718-d14a230f1c07",
        "colab": {
          "base_uri": "https://localhost:8080/"
        }
      },
      "source": [
        "import nltk\n",
        "from nltk.stem import WordNetLemmatizer     # Lemmatize using WordNet's built-in morphy function.\n",
        "from nltk.corpus import stopwords           # List of common words, one per line.  Blank lines are ignored.\n",
        "\n",
        "nltk.download('punkt')\n",
        "nltk.download('stopwords')\n",
        "nltk.download('wordnet')"
      ],
      "execution_count": 5,
      "outputs": [
        {
          "output_type": "stream",
          "text": [
            "[nltk_data] Downloading package punkt to /root/nltk_data...\n",
            "[nltk_data]   Package punkt is already up-to-date!\n",
            "[nltk_data] Downloading package stopwords to /root/nltk_data...\n",
            "[nltk_data]   Package stopwords is already up-to-date!\n",
            "[nltk_data] Downloading package wordnet to /root/nltk_data...\n",
            "[nltk_data]   Package wordnet is already up-to-date!\n"
          ],
          "name": "stdout"
        },
        {
          "output_type": "execute_result",
          "data": {
            "text/plain": [
              "True"
            ]
          },
          "metadata": {
            "tags": []
          },
          "execution_count": 5
        }
      ]
    },
    {
      "cell_type": "code",
      "metadata": {
        "id": "CAXSiqzlcj8p"
      },
      "source": [
        "paragraph = \"\"\"Meditation is a practice where an individual uses a technique – such as mindfulness, \n",
        "              or focusing the mind on a particular object, thought, or activity – to train attention \n",
        "              and awareness, and achieve a mentally clear and emotionally calm and stable state. \n",
        "              Scholars have found meditation elusive to define, as practices vary both between traditions\n",
        "               and within them. Meditation is practiced in numerous religious traditions. The earliest records\n",
        "                of meditation (dhyana) are found in the Vedas, and meditation exerts a salient role in the \n",
        "                contemplative repertoire of Hinduism and Buddhism.[7] Since the 19th century, Asian meditative \n",
        "                techniques have spread to other cultures where they have also found application in non-spiritual \n",
        "                contexts, such as business and health. Meditation may significantly reduce stress, anxiety, \n",
        "                depression, and pain,[8] and enhance peace, perception,[9] self-concept, and well-being.\n",
        "                Meditation is under research to substantiate its health (psychological, neurological, and \n",
        "                cardiovascular) benefits and other effects.\"\"\"\n",
        "               \n",
        "               "
      ],
      "execution_count": 6,
      "outputs": []
    },
    {
      "cell_type": "code",
      "metadata": {
        "id": "NS8XKmvsckLV",
        "outputId": "de607b8e-15fa-4ffe-fcc6-0c8407d38465",
        "colab": {
          "base_uri": "https://localhost:8080/"
        }
      },
      "source": [
        "sentences = nltk.sent_tokenize(paragraph)\n",
        "sentences       "
      ],
      "execution_count": 7,
      "outputs": [
        {
          "output_type": "execute_result",
          "data": {
            "text/plain": [
              "['Meditation is a practice where an individual uses a technique – such as mindfulness, \\n              or focusing the mind on a particular object, thought, or activity – to train attention \\n              and awareness, and achieve a mentally clear and emotionally calm and stable state.',\n",
              " 'Scholars have found meditation elusive to define, as practices vary both between traditions\\n               and within them.',\n",
              " 'Meditation is practiced in numerous religious traditions.',\n",
              " 'The earliest records\\n                of meditation (dhyana) are found in the Vedas, and meditation exerts a salient role in the \\n                contemplative repertoire of Hinduism and Buddhism.',\n",
              " '[7] Since the 19th century, Asian meditative \\n                techniques have spread to other cultures where they have also found application in non-spiritual \\n                contexts, such as business and health.',\n",
              " 'Meditation may significantly reduce stress, anxiety, \\n                depression, and pain,[8] and enhance peace, perception,[9] self-concept, and well-being.',\n",
              " 'Meditation is under research to substantiate its health (psychological, neurological, and \\n                cardiovascular) benefits and other effects.']"
            ]
          },
          "metadata": {
            "tags": []
          },
          "execution_count": 7
        }
      ]
    },
    {
      "cell_type": "code",
      "metadata": {
        "id": "fZ7lsbl-den1",
        "outputId": "1b6916e3-db61-4a0f-d3ac-2ad67b591335",
        "colab": {
          "base_uri": "https://localhost:8080/"
        }
      },
      "source": [
        "# Lemmatization\n",
        "lemmatizer = WordNetLemmatizer() \n",
        "\n",
        "for i in range(len(sentences)):\n",
        "    words = nltk.word_tokenize(sentences[i])\n",
        "    words = [lemmatizer.lemmatize(word) for word in words if word not in set(stopwords.words('english'))]\n",
        "    sentences[i] = ' '.join(words)\n",
        "    \n",
        "sentences"
      ],
      "execution_count": 8,
      "outputs": [
        {
          "output_type": "execute_result",
          "data": {
            "text/plain": [
              "['Meditation practice individual us technique – mindfulness , focusing mind particular object , thought , activity – train attention awareness , achieve mentally clear emotionally calm stable state .',\n",
              " 'Scholars found meditation elusive define , practice vary tradition within .',\n",
              " 'Meditation practiced numerous religious tradition .',\n",
              " 'The earliest record meditation ( dhyana ) found Vedas , meditation exerts salient role contemplative repertoire Hinduism Buddhism .',\n",
              " '[ 7 ] Since 19th century , Asian meditative technique spread culture also found application non-spiritual context , business health .',\n",
              " 'Meditation may significantly reduce stress , anxiety , depression , pain , [ 8 ] enhance peace , perception , [ 9 ] self-concept , well-being .',\n",
              " 'Meditation research substantiate health ( psychological , neurological , cardiovascular ) benefit effect .']"
            ]
          },
          "metadata": {
            "tags": []
          },
          "execution_count": 8
        }
      ]
    },
    {
      "cell_type": "code",
      "metadata": {
        "id": "T1dziVK2tSMl"
      },
      "source": [
        ""
      ],
      "execution_count": 8,
      "outputs": []
    }
  ]
}